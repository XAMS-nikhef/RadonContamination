{
 "cells": [
  {
   "cell_type": "code",
   "execution_count": 1,
   "metadata": {},
   "outputs": [],
   "source": [
    "# packages\n",
    "\n",
    "%matplotlib inline\n",
    "\n",
    "from math import*\n",
    "import matplotlib.pyplot as plt\n",
    "import numpy as np\n",
    "from array import*\n",
    "import scipy.integrate as integrate\n",
    "from scipy.interpolate import interp1d\n",
    "import scipy.optimize as optimization\n",
    "from scipy.special import erf\n",
    "from matplotlib.colors import LogNorm\n",
    "import matplotlib.gridspec as gridspec\n",
    "from array import array\n",
    "from IPython.display import HTML\n",
    "from IPython.display import display\n",
    "from datetime import datetime, timedelta\n",
    "from sklearn import datasets, linear_model\n",
    "from sklearn.metrics import mean_squared_error, r2_score\n",
    "import matplotlib.dates as mdates"
   ]
  },
  {
   "cell_type": "markdown",
   "metadata": {},
   "source": [
    "# Radon-222 to Plumbum-210 and Polonium-210 contamination tracker\n",
    "\n",
    "## Flora Pennartz, June 2021\n",
    "\n",
    "This program can be used to track down the accumulated amount of Radon-222 daughters Polonium-210 and Plumbum-210 when flushing the XAMSL setup with Radon. \n",
    "\n",
    "While fluhsing with Radon, some of the Radon decays into Plumbum. After the flushing, the Radon will be pumped out, but the Plumbum will stay, decaying into Polonium. The decaying Polonium could create noise in the setup.\n",
    "\n",
    "The program first caculates the amout of Plumbum formed during the flushing, by solving the below formula for Radon and using the time duration of the flushing.\n",
    "\n",
    "$$N = N_{0}e^{-\\lambda t}$$\n",
    "\n",
    "The number of Plumbum atoms is simpy the start Radon value minus the end Radon value. Then, the script takes the outcome for Plumbum and uses it for the same calculation; this time for Plumbum decaying into Polonium. The relation between activity and number of atoms is  given by the formula below.\n",
    "\n",
    "$$A = \\lambda N = -\\frac{dN}{dt} $$"
   ]
  },
  {
   "cell_type": "code",
   "execution_count": 2,
   "metadata": {},
   "outputs": [],
   "source": [
    "# constants\n",
    "\n",
    "lambda_Rn222 = 2.1e-6 # decay constant Rn222 in s-1\n",
    "lambda_Pb210 = 9.9e-10 # decay constant Pb210 in s-1\n",
    "lambda_Po210 = 25.8e-8 # decay constant Po210 in s-1"
   ]
  },
  {
   "cell_type": "code",
   "execution_count": 3,
   "metadata": {},
   "outputs": [],
   "source": [
    "# functions\n",
    "\n",
    "def Rn222_to_Pb210 (start_time_flush, end_time_flush, start_flush_N_Rn222):\n",
    "    \n",
    "    start_time_unix = start_time_flush.timestamp()\n",
    "    end_time_unix = end_time_flush.timestamp()  \n",
    "    len_time_unix = end_time_unix - start_time_unix\n",
    "    end_flush_N_Rn222 = int(start_flush_N_Rn222*np.exp(-lambda_Rn222*len_time_unix))\n",
    "    end_flush_N_Pb210 = int(start_flush_N_Rn222 - end_flush_N_Rn222)\n",
    "    \n",
    "    return end_flush_N_Rn222, end_flush_N_Pb210\n",
    "\n",
    "def Pb210_to_Po210 (start_decay_time, end_decay_time, end_flush_N_Pb210):\n",
    "    \n",
    "    start_time_unix = start_decay_time.timestamp()\n",
    "    end_time_unix = end_decay_time.timestamp()  \n",
    "    len_time_unix = end_time_unix - start_time_unix\n",
    "    end_decay_N_Pb210 = int(end_flush_N_Pb210*np.exp(-lambda_Pb210*len_time_unix))\n",
    "    end_decay_N_Po210 = int(end_flush_N_Pb210 - end_decay_N_Pb210)\n",
    "   \n",
    "    return end_decay_N_Pb210, end_decay_N_Po210"
   ]
  },
  {
   "cell_type": "markdown",
   "metadata": {},
   "source": [
    "# What day do you want to check?\n",
    "Say, you want to know the accumulated Polonium after so many Radon flushings on the 1st of January, 2025, midnight."
   ]
  },
  {
   "cell_type": "code",
   "execution_count": 14,
   "metadata": {},
   "outputs": [],
   "source": [
    "# format is (yyyy, [m]m, [d]d, [h]h, [m]m, [s]s)\n",
    "end_decay_time = datetime(2025, 1, 1, 0, 0, 0)"
   ]
  },
  {
   "cell_type": "markdown",
   "metadata": {},
   "source": [
    "# Radon flush 1\n",
    "This function determines the amount of Radon and Plumbum after a certain flushing time: you only need to give the flush start time, flush end time and the number of Radon atoms at the start of the flush. I filled in an example."
   ]
  },
  {
   "cell_type": "code",
   "execution_count": 6,
   "metadata": {},
   "outputs": [
    {
     "name": "stdout",
     "output_type": "stream",
     "text": [
      "With a start N value for Rn222: 1000\n",
      "Number of Radon-222 atoms due to 1st flushing between 2021-06-01 09:00:00 and 2021-06-30 17:30:30 will be: 4\n",
      "Number of Plumbum-210 atoms due to 1st flushing between 2021-06-01 09:00:00 and 2021-06-30 17:30:30 will be: 996\n",
      "Number of Plumbum-210 atoms due to 1st flush, left alone between 2021-06-30 17:30:30 and 2025-01-01 00:00:00 will be: 892\n",
      "Number of Polonium-210 atoms due to 1st flush, left alone between 2021-06-30 17:30:30 and 2025-01-01 00:00:00 will be: 104\n"
     ]
    }
   ],
   "source": [
    "start_time_flush_1 = datetime(2021, 6, 1, 9, 0, 0) # format dates is (yyyy, m, d, h, m, s))\n",
    "end_time_flush_1 = datetime(2021, 6, 30, 17, 30, 30)\n",
    "start_flush_N_Rn222_1 = 1000\n",
    "\n",
    "end_flush_N_Rn222_1, end_flush_N_Pb210_1 = Rn222_to_Pb210 (start_time_flush_1, end_time_flush_1, start_flush_N_Rn222_1) \n",
    "\n",
    "print('With a start N value for Rn222:', start_flush_N_Rn222_1)\n",
    "print('Number of Radon-222 atoms due to 1st flushing between', start_time_flush_1, 'and', end_time_flush_1,'will be:', end_flush_N_Rn222_1)\n",
    "print('Number of Plumbum-210 atoms due to 1st flushing between', start_time_flush_1, 'and', end_time_flush_1,'will be:', end_flush_N_Pb210_1)\n",
    "\n",
    "start_decay_time_1 = end_time_flush_1\n",
    "\n",
    "end_decay_N_Pb210_1, end_decay_N_Po210_1 = Pb210_to_Po210 (start_decay_time_1, end_decay_time, end_flush_N_Pb210_1) \n",
    "print('Number of Plumbum-210 atoms due to 1st flush, left alone between', start_decay_time_1, 'and', end_decay_time,'will be:', end_decay_N_Pb210_1)\n",
    "print('Number of Polonium-210 atoms due to 1st flush, left alone between', start_decay_time_1, 'and', end_decay_time,'will be:', end_decay_N_Po210_1)\n"
   ]
  },
  {
   "cell_type": "markdown",
   "metadata": {},
   "source": [
    "# Radon flush 2\n",
    "Here, you can add a second flushing. Example dates and times have been given."
   ]
  },
  {
   "cell_type": "code",
   "execution_count": 7,
   "metadata": {},
   "outputs": [
    {
     "name": "stdout",
     "output_type": "stream",
     "text": [
      "With a start N value for Rn222: 2000\n",
      "Number of Radon-222 atoms due to 2nd flushing between 2022-07-01 09:00:00 and 2022-07-30 17:30:30 will be: 9\n",
      "Number of Plumbum-210 atoms due to 2nd flushing between 2022-07-01 09:00:00 and 2022-07-30 17:30:30 will be: 1991\n",
      "Number of Plumbum-210 atoms due to 2nd flush, left alone between 2022-07-30 17:30:30 and 2025-01-01 00:00:00 will be: 1845\n",
      "Number of Polonium-210 atoms due to 2nd flush, left alone between 2022-07-30 17:30:30 and 2025-01-01 00:00:00 will be: 146\n"
     ]
    }
   ],
   "source": [
    "# second Radon flushig\n",
    "start_time_flush_2 = datetime(2022, 7, 1, 9, 0, 0)\n",
    "end_time_flush_2 = datetime(2022, 7, 30, 17, 30, 30)\n",
    "start_flush_N_Rn222_2 = 2000\n",
    "\n",
    "end_flush_N_Rn222_2, end_flush_N_Pb210_2 = Rn222_to_Pb210 (start_time_flush_2, end_time_flush_2, start_flush_N_Rn222_2) \n",
    "\n",
    "print('With a start N value for Rn222:', start_flush_N_Rn222_2)\n",
    "print('Number of Radon-222 atoms due to 2nd flushing between', start_time_flush_2, 'and', end_time_flush_2,'will be:', end_flush_N_Rn222_2)\n",
    "print('Number of Plumbum-210 atoms due to 2nd flushing between', start_time_flush_2, 'and', end_time_flush_2,'will be:', end_flush_N_Pb210_2)\n",
    "\n",
    "start_decay_time_2 = end_time_flush_2\n",
    "\n",
    "end_decay_N_Pb210_2, end_decay_N_Po210_2 = Pb210_to_Po210 (start_decay_time_2, end_decay_time, end_flush_N_Pb210_2) \n",
    "print('Number of Plumbum-210 atoms due to 2nd flush, left alone between', start_decay_time_2, 'and', end_decay_time,'will be:', end_decay_N_Pb210_2)\n",
    "print('Number of Polonium-210 atoms due to 2nd flush, left alone between', start_decay_time_2, 'and', end_decay_time,'will be:', end_decay_N_Po210_2)"
   ]
  },
  {
   "cell_type": "markdown",
   "metadata": {},
   "source": [
    "# Radon flush 3\n",
    "And a third!"
   ]
  },
  {
   "cell_type": "code",
   "execution_count": 8,
   "metadata": {},
   "outputs": [
    {
     "name": "stdout",
     "output_type": "stream",
     "text": [
      "With a third flush start N value for Rn222: 500\n",
      "Number of Radon-222 atoms due to 3rd flushing between 2023-08-14 09:00:00 and 2023-08-14 17:00:00 will be: 470\n",
      "Number of Plumbum-210 atoms due to 3rd flushing between 2023-08-14 09:00:00 and 2023-08-14 17:00:00 will be: 30\n",
      "Number of Plumbum-210 atoms due to 3rd flush, left alone between 2023-08-14 17:00:00 and 2025-01-01 00:00:00 will be: 28\n",
      "Number of Polonium-210 atoms due to 3rd flush, left alone between 2023-08-14 17:00:00 and 2025-01-01 00:00:00 will be: 2\n"
     ]
    }
   ],
   "source": [
    "# third Radon flushig\n",
    "\n",
    "start_time_flush_3 = datetime(2023, 8, 14, 9, 0, 0)\n",
    "end_time_flush_3 = datetime(2023, 8, 14, 17, 0, 0)\n",
    "start_flush_N_Rn222_3 = 500\n",
    "\n",
    "end_flush_N_Rn222_3, end_flush_N_Pb210_3 = Rn222_to_Pb210 (start_time_flush_3, end_time_flush_3, start_flush_N_Rn222_3) \n",
    "\n",
    "print('With a third flush start N value for Rn222:', start_flush_N_Rn222_3)\n",
    "print('Number of Radon-222 atoms due to 3rd flushing between', start_time_flush_3, 'and', end_time_flush_3,'will be:', end_flush_N_Rn222_3)\n",
    "print('Number of Plumbum-210 atoms due to 3rd flushing between', start_time_flush_3, 'and', end_time_flush_3,'will be:', end_flush_N_Pb210_3)\n",
    "\n",
    "start_decay_time_3 = end_time_flush_3\n",
    "\n",
    "end_decay_N_Pb210_3, end_decay_N_Po210_3 = Pb210_to_Po210 (start_decay_time_3, end_decay_time, end_flush_N_Pb210_3) \n",
    "print('Number of Plumbum-210 atoms due to 3rd flush, left alone between', start_decay_time_3, 'and', end_decay_time,'will be:', end_decay_N_Pb210_3)\n",
    "print('Number of Polonium-210 atoms due to 3rd flush, left alone between', start_decay_time_3, 'and', end_decay_time,'will be:', end_decay_N_Po210_3)"
   ]
  },
  {
   "cell_type": "markdown",
   "metadata": {},
   "source": [
    "# Radon flush 4\n",
    "You can add another flushing by copying the \"Radon flush 3\" cell, fill in start_time_flush_3, end_time_flush_3, start_flush_N_Rn222_3, and change all 3's into 4's. Then, add end_decay_N_Pb210_4 and end_decay_N_Po210_4 in the accumulation cells. "
   ]
  },
  {
   "cell_type": "code",
   "execution_count": 9,
   "metadata": {},
   "outputs": [],
   "source": []
  },
  {
   "cell_type": "markdown",
   "metadata": {},
   "source": [
    "# Accumulation\n",
    "Here you'll find the accumulation N and A for both Plumbum and Polonium, after all the flushes."
   ]
  },
  {
   "cell_type": "code",
   "execution_count": 12,
   "metadata": {},
   "outputs": [
    {
     "name": "stdout",
     "output_type": "stream",
     "text": [
      "On 2025-01-01 00:00:00 the accumulated number of Pb-210 atoms from all flushes since 2021-06-01 09:00:00 will be 2765\n",
      "The accompanying activity of Pb-210 will be 2.73735e-06 Bq\n"
     ]
    }
   ],
   "source": [
    "accum_N_Pb210 = end_decay_N_Pb210_1 + end_decay_N_Pb210_2 + end_decay_N_Pb210_3\n",
    "\n",
    "print('On', end_decay_time, 'the accumulated number of Pb-210 atoms from all flushes since', start_time_flush_1,'will be', accum_N_Pb210)\n",
    "print('The accompanying activity of Pb-210 will be', lambda_Pb210*accum_N_Pb210, 'Bq')"
   ]
  },
  {
   "cell_type": "code",
   "execution_count": 13,
   "metadata": {},
   "outputs": [
    {
     "name": "stdout",
     "output_type": "stream",
     "text": [
      "On 2025-01-01 00:00:00 the accumulated number of Po-210 atoms from all flushes since 2021-06-01 09:00:00 will be 252\n",
      "The accompanying activity of Po-210 will be 6.5016e-05 Bq\n"
     ]
    }
   ],
   "source": [
    "accum_N_Po210 = end_decay_N_Po210_1 + end_decay_N_Po210_2 + end_decay_N_Po210_3\n",
    "\n",
    "print('On', end_decay_time, 'the accumulated number of Po-210 atoms from all flushes since', start_time_flush_1,'will be', accum_N_Po210)\n",
    "print('The accompanying activity of Po-210 will be', lambda_Po210*accum_N_Po210, 'Bq')"
   ]
  },
  {
   "cell_type": "code",
   "execution_count": null,
   "metadata": {},
   "outputs": [],
   "source": []
  }
 ],
 "metadata": {
  "kernelspec": {
   "display_name": "Python 3",
   "language": "python",
   "name": "python3"
  },
  "language_info": {
   "codemirror_mode": {
    "name": "ipython",
    "version": 3
   },
   "file_extension": ".py",
   "mimetype": "text/x-python",
   "name": "python",
   "nbconvert_exporter": "python",
   "pygments_lexer": "ipython3",
   "version": "3.7.1"
  }
 },
 "nbformat": 4,
 "nbformat_minor": 2
}
